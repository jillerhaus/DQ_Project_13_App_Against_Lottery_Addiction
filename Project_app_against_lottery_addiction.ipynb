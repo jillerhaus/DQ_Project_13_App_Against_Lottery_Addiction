{
 "cells": [
  {
   "cell_type": "markdown",
   "metadata": {},
   "source": [
    "## Project: Mobile App to Combat Lottery Addiction\n",
    "\n",
    "In this project the logical core to an app meant to dissuade lottery addicts from buying lottery tickets will be constructed by showing the probability of winning in different circumstances.\n",
    "\n",
    "The goal of the project will be to answer the following questions:\n",
    "\n",
    "* What is the probability of winning the lottery with a single ticket?\n",
    "* What is the probability of winning with a number of tickets?\n",
    "* What is the probability of having at least a certain number of winning numbers in a single ticket?\n",
    "\n",
    "Historical data from the Canadian national 6/49 lottery will also be used to include a function where the user can check if their numbers have ever been drawn.\n",
    "\n",
    "The educational goal of the project is to get hands-on experience with probabilistic calculations."
   ]
  },
  {
   "cell_type": "code",
   "execution_count": 1,
   "metadata": {},
   "outputs": [],
   "source": [
    "# Creating useful functions\n",
    "\n",
    "def factorial(n):\n",
    "    '''Calculate the factorial of a number\n",
    "    Args:\n",
    "        n (int): number for which the factorial should be calclated\n",
    "    Returns:\n",
    "        int: n!\n",
    "    '''\n",
    "    fact = 1\n",
    "    for item in range(1,n+1):\n",
    "        fact *= item\n",
    "    return fact\n",
    "\n",
    "def combinations(n,k):\n",
    "    '''Calculate the number of combinations possible while sampling k without replacement from a group of n\n",
    "    Args:\n",
    "        n (int): number of items in the group to be picked from (such as the 49 possible numbers in the lottery)\n",
    "        k (int): number of items to pick (like the 6 numbers picked in the lottery)\n",
    "    Returns:\n",
    "        int: number of permutations possible when picking k out of a group of n items without replacement\n",
    "    '''\n",
    "    return factorial(n)/(factorial(k) * factorial(n-k))"
   ]
  },
  {
   "cell_type": "code",
   "execution_count": 2,
   "metadata": {},
   "outputs": [
    {
     "data": {
      "text/plain": [
       "'you have a one in 13983816.0 of winning.'"
      ]
     },
     "execution_count": 2,
     "metadata": {},
     "output_type": "execute_result"
    }
   ],
   "source": [
    "def one_ticket_probability(lst):\n",
    "    '''Display the probability of winning when picking numbers in a list\n",
    "    Args:\n",
    "        lst (list): list of numbers the user wants to pick, but since the probability is the same for all \n",
    "        different combinations of numbers, this argument is not actually used by the function, it is there \n",
    "        to give the user interactivity\n",
    "    Returns:\n",
    "        str: string telling the user their probability of winning with a single ticket in a game of 6/49\n",
    "    '''\n",
    "    c_lot_nrs = combinations(49,6)\n",
    "    return 'you have a one in '+str(c_lot_nrs) +' of winning.'\n",
    "one_ticket_probability(\"litterally anything that doesn't  cause an error\")\n",
    "    "
   ]
  },
  {
   "cell_type": "markdown",
   "metadata": {},
   "source": [
    "`one_ticket_probability` will tell them their chances of winning the lottery. This chance is the same for every ticket regardless of the numbers entered."
   ]
  },
  {
   "cell_type": "markdown",
   "metadata": {
    "collapsed": true
   },
   "source": [
    "## Using historic data\n",
    "\n",
    "Now historic data from past drawings of the Canadian national lottery will be used to let users find out if their numbers have ever been drawn"
   ]
  },
  {
   "cell_type": "code",
   "execution_count": 3,
   "metadata": {},
   "outputs": [],
   "source": [
    "# Imports\n",
    "import pandas as pd\n",
    "import numpy as np"
   ]
  },
  {
   "cell_type": "code",
   "execution_count": 4,
   "metadata": {},
   "outputs": [],
   "source": [
    "# Reading in the dataset\n",
    "can_lot = pd.read_csv('649.csv')"
   ]
  },
  {
   "cell_type": "markdown",
   "metadata": {},
   "source": [
    "## First overview over the dataset"
   ]
  },
  {
   "cell_type": "code",
   "execution_count": 5,
   "metadata": {},
   "outputs": [
    {
     "data": {
      "text/plain": [
       "(3665, 11)"
      ]
     },
     "execution_count": 5,
     "metadata": {},
     "output_type": "execute_result"
    }
   ],
   "source": [
    "can_lot.shape"
   ]
  },
  {
   "cell_type": "markdown",
   "metadata": {},
   "source": [
    "The dataset includes data from 3665 drawings."
   ]
  },
  {
   "cell_type": "code",
   "execution_count": 6,
   "metadata": {},
   "outputs": [
    {
     "name": "stdout",
     "output_type": "stream",
     "text": [
      "0    6/12/1982\n",
      "1    6/19/1982\n",
      "2    6/26/1982\n",
      "Name: DRAW DATE, dtype: object\n",
      "3662    6/13/2018\n",
      "3663    6/16/2018\n",
      "3664    6/20/2018\n",
      "Name: DRAW DATE, dtype: object\n"
     ]
    }
   ],
   "source": [
    "print(can_lot['DRAW DATE'].head(3))\n",
    "print(can_lot['DRAW DATE'].tail(3))\n"
   ]
  },
  {
   "cell_type": "markdown",
   "metadata": {},
   "source": [
    "The data starts on 12.6.1982 and ends in 20.6.2018"
   ]
  },
  {
   "cell_type": "code",
   "execution_count": 7,
   "metadata": {},
   "outputs": [
    {
     "data": {
      "text/html": [
       "<div>\n",
       "<style scoped>\n",
       "    .dataframe tbody tr th:only-of-type {\n",
       "        vertical-align: middle;\n",
       "    }\n",
       "\n",
       "    .dataframe tbody tr th {\n",
       "        vertical-align: top;\n",
       "    }\n",
       "\n",
       "    .dataframe thead th {\n",
       "        text-align: right;\n",
       "    }\n",
       "</style>\n",
       "<table border=\"1\" class=\"dataframe\">\n",
       "  <thead>\n",
       "    <tr style=\"text-align: right;\">\n",
       "      <th></th>\n",
       "      <th>PRODUCT</th>\n",
       "      <th>DRAW NUMBER</th>\n",
       "      <th>SEQUENCE NUMBER</th>\n",
       "      <th>DRAW DATE</th>\n",
       "      <th>NUMBER DRAWN 1</th>\n",
       "      <th>NUMBER DRAWN 2</th>\n",
       "      <th>NUMBER DRAWN 3</th>\n",
       "      <th>NUMBER DRAWN 4</th>\n",
       "      <th>NUMBER DRAWN 5</th>\n",
       "      <th>NUMBER DRAWN 6</th>\n",
       "      <th>BONUS NUMBER</th>\n",
       "    </tr>\n",
       "  </thead>\n",
       "  <tbody>\n",
       "    <tr>\n",
       "      <th>0</th>\n",
       "      <td>649</td>\n",
       "      <td>1</td>\n",
       "      <td>0</td>\n",
       "      <td>6/12/1982</td>\n",
       "      <td>3</td>\n",
       "      <td>11</td>\n",
       "      <td>12</td>\n",
       "      <td>14</td>\n",
       "      <td>41</td>\n",
       "      <td>43</td>\n",
       "      <td>13</td>\n",
       "    </tr>\n",
       "    <tr>\n",
       "      <th>1</th>\n",
       "      <td>649</td>\n",
       "      <td>2</td>\n",
       "      <td>0</td>\n",
       "      <td>6/19/1982</td>\n",
       "      <td>8</td>\n",
       "      <td>33</td>\n",
       "      <td>36</td>\n",
       "      <td>37</td>\n",
       "      <td>39</td>\n",
       "      <td>41</td>\n",
       "      <td>9</td>\n",
       "    </tr>\n",
       "    <tr>\n",
       "      <th>2</th>\n",
       "      <td>649</td>\n",
       "      <td>3</td>\n",
       "      <td>0</td>\n",
       "      <td>6/26/1982</td>\n",
       "      <td>1</td>\n",
       "      <td>6</td>\n",
       "      <td>23</td>\n",
       "      <td>24</td>\n",
       "      <td>27</td>\n",
       "      <td>39</td>\n",
       "      <td>34</td>\n",
       "    </tr>\n",
       "  </tbody>\n",
       "</table>\n",
       "</div>"
      ],
      "text/plain": [
       "   PRODUCT  DRAW NUMBER  SEQUENCE NUMBER  DRAW DATE  NUMBER DRAWN 1  \\\n",
       "0      649            1                0  6/12/1982               3   \n",
       "1      649            2                0  6/19/1982               8   \n",
       "2      649            3                0  6/26/1982               1   \n",
       "\n",
       "   NUMBER DRAWN 2  NUMBER DRAWN 3  NUMBER DRAWN 4  NUMBER DRAWN 5  \\\n",
       "0              11              12              14              41   \n",
       "1              33              36              37              39   \n",
       "2               6              23              24              27   \n",
       "\n",
       "   NUMBER DRAWN 6  BONUS NUMBER  \n",
       "0              43            13  \n",
       "1              41             9  \n",
       "2              39            34  "
      ]
     },
     "execution_count": 7,
     "metadata": {},
     "output_type": "execute_result"
    }
   ],
   "source": [
    "    can_lot.head(3)"
   ]
  },
  {
   "cell_type": "markdown",
   "metadata": {},
   "source": [
    "The dataset includes the columns:\n",
    "\n",
    "* `PRODUCT`: The lottery of the results in the row. This is always the 6/49 lottery. This column can be dropped\n",
    "* `DRAW NUMBER`: The integer key for the drawings. This column can also be dropped, since it provides no benefit over the index.\n",
    "* `SEQUENCE NUMBER`: Unclear, but not necessary for the analysis. Can be dropped\n",
    "* `DRAW DATE`: Date of the draw\n",
    "* `NUMBER DRAWN(1-6)`: The numbers drawn as well as the sequence in which they were drawn. Instead of using 6 columns this could be reduced to a single one by using a list instead of the columns.\n",
    "* `BONUS NUMBER`: The bonus number of the draw"
   ]
  },
  {
   "cell_type": "markdown",
   "metadata": {},
   "source": [
    "Turn the `NUMBER DRAWN <#>` columns into a single one with a list of the numbers"
   ]
  },
  {
   "cell_type": "code",
   "execution_count": 9,
   "metadata": {},
   "outputs": [],
   "source": [
    "# Select the right columns\n",
    "number_cols = can_lot.columns[can_lot.columns.str.contains('NUMBER DRAWN')]\n",
    "\n",
    "def extract_numbers(row):\n",
    "    '''Extract the numbers from a single draw in can_lot and return them as a list\n",
    "    Args:\n",
    "        row(int): index of the row to extract the numbers from\n",
    "    '''\n",
    "    list_draw = []\n",
    "    for item in number_cols:\n",
    "        list_draw.append(row[item])\n",
    "    list_draw.sort()\n",
    "    return set(list_draw)\n",
    "can_lot['nr_list'] = can_lot.apply(extract_numbers, axis = 1)"
   ]
  },
  {
   "cell_type": "code",
   "execution_count": 10,
   "metadata": {},
   "outputs": [
    {
     "name": "stdout",
     "output_type": "stream",
     "text": [
      "   PRODUCT  DRAW NUMBER  SEQUENCE NUMBER  DRAW DATE  NUMBER DRAWN 1  \\\n",
      "0      649            1                0  6/12/1982               3   \n",
      "1      649            2                0  6/19/1982               8   \n",
      "2      649            3                0  6/26/1982               1   \n",
      "3      649            4                0   7/3/1982               3   \n",
      "4      649            5                0  7/10/1982               5   \n",
      "\n",
      "   NUMBER DRAWN 2  NUMBER DRAWN 3  NUMBER DRAWN 4  NUMBER DRAWN 5  \\\n",
      "0              11              12              14              41   \n",
      "1              33              36              37              39   \n",
      "2               6              23              24              27   \n",
      "3               9              10              13              20   \n",
      "4              14              21              31              34   \n",
      "\n",
      "   NUMBER DRAWN 6  BONUS NUMBER                  nr_list  \n",
      "0              43            13  {3, 41, 11, 12, 43, 14}  \n",
      "1              41             9  {33, 36, 37, 39, 8, 41}  \n",
      "2              39            34   {1, 6, 39, 23, 24, 27}  \n",
      "3              43            34   {3, 9, 10, 43, 13, 20}  \n",
      "4              47            45  {34, 5, 14, 47, 21, 31}  \n"
     ]
    }
   ],
   "source": [
    "print(can_lot.head())"
   ]
  },
  {
   "cell_type": "code",
   "execution_count": 12,
   "metadata": {},
   "outputs": [],
   "source": [
    "list_a = [3,11,69,14,41,43]\n",
    "def woulda_won(usr_lst,ser = can_lot.nr_list):\n",
    "    '''Tell the user if their numbers have ever been drawn in the Canadian lottery\n",
    "    Args:\n",
    "        usr_lst (list): list containing the lottery numbers of the user\n",
    "        ser (series): Series of sets of numbers drawn in the Canadian lottery\n",
    "    Returns:\n",
    "        str telling the user if their numbers have been drawn before and if so how many times and the \n",
    "        probability of winning with a given set of numbers (which is always the same for every set of numbers)\n",
    "    '''\n",
    "    usr_set = set(usr_lst)\n",
    "    occurences = (ser == usr_set).sum()\n",
    "    if occurences == 0:\n",
    "        return '''The numbers {} have never been drawn. Your \n",
    "        chance of winning with them is 0.0000072%'''.format(usr_lst)\n",
    "    elif occurences == 1:\n",
    "        return '''The numbers {} have been drawn once.\n",
    "        Your chance of winning with them is 0.0000072%'''.format(usr_lst)\n",
    "    else:\n",
    "        return '''The numbers {} have been drawn. \n",
    "        Your chance of winning with them is 0.0000072%'''.format(usr_lst) + str(occurence) + 'times'   "
   ]
  },
  {
   "cell_type": "code",
   "execution_count": 13,
   "metadata": {},
   "outputs": [
    {
     "name": "stdout",
     "output_type": "stream",
     "text": [
      "The numbers [3, 11, 69, 14, 41, 43] have never been drawn. Your \n",
      "        chance of winning with them is 0.0000072%\n"
     ]
    }
   ],
   "source": [
    "print(woulda_won(list_a))\n"
   ]
  },
  {
   "cell_type": "markdown",
   "metadata": {},
   "source": [
    "The woulda_won function lets the user input a list of numbers and then tells them if the same numbers have ever been drawn in the history of the Canadian national lottery."
   ]
  },
  {
   "cell_type": "code",
   "execution_count": 14,
   "metadata": {},
   "outputs": [
    {
     "name": "stdout",
     "output_type": "stream",
     "text": [
      "entering the lottery with a single ticket gives you a 0.0000072%\n",
      "        chance of winning\n"
     ]
    }
   ],
   "source": [
    "def multi_ticket_probability(nr):\n",
    "    '''Tell the user the percentage chance of winning when buying a certain number of tickets\n",
    "    Args:\n",
    "        nr (int): number of tickets the user wishes to purchase\n",
    "    Returns:\n",
    "        str telling the user the probability of winning with x number of tickets\n",
    "    '''\n",
    "    probab = nr / combinations(49,6)\n",
    "    if nr == 1:\n",
    "        return '''entering the lottery with a single ticket gives you a {:.7f}%\n",
    "        chance of winning'''.format(probab*100)\n",
    "    return '''if you enter the lottery with {} tickets, you have\n",
    "    a {:.6f}% chance fo winning'''.format(nr,probab*100)\n",
    "print(multi_ticket_probability(1))"
   ]
  },
  {
   "cell_type": "markdown",
   "metadata": {},
   "source": [
    "This function tells the user how high their probability of winning is if they purchase a certain number of tickets"
   ]
  },
  {
   "cell_type": "code",
   "execution_count": 15,
   "metadata": {},
   "outputs": [
    {
     "data": {
      "text/plain": [
       "'Your chances of getting 2 winning numbers in the drawing today is 19.1326531%'"
      ]
     },
     "execution_count": 15,
     "metadata": {},
     "output_type": "execute_result"
    }
   ],
   "source": [
    "combinations(49,6)\n",
    "combinations(6,5)\n",
    "\n",
    "\n",
    "def probability_less_6(nr):\n",
    "    '''Tell the user the probability of getting nr out of 6 in a lottery draw\n",
    "    Args:\n",
    "        nr (int): number to calculate the probability of between 2 and 5\n",
    "    Returns:\n",
    "        str probability of winning or an error telling the user to choose a number between 2 and 5\n",
    "    '''\n",
    "    if nr in [2,3,4,5]:\n",
    "        comb_nrs = combinations(49-nr,6-nr)\n",
    "            \n",
    "        total_combs = combinations(6,nr) * comb_nrs\n",
    "        prob = total_combs / combinations(49,6)\n",
    "        return '''Your chances of getting {} winning numbers in the drawing today is {:.7f}%'''.format(nr, prob*100)\n",
    "    else:\n",
    "        return '''Please enter a number between 2 and 5'''\n",
    "probability_less_6(2)"
   ]
  },
  {
   "cell_type": "code",
   "execution_count": 16,
   "metadata": {},
   "outputs": [
    {
     "name": "stdout",
     "output_type": "stream",
     "text": [
      "45\n",
      "44\n"
     ]
    }
   ],
   "source": [
    "for i in range(4,6):\n",
    "    print(49-i)"
   ]
  },
  {
   "cell_type": "markdown",
   "metadata": {},
   "source": [
    "This function lets the user enter a number and returns the percentage of them getting that amount of winning numbers. The new numbers can be anywhere between 2 and 5."
   ]
  },
  {
   "cell_type": "markdown",
   "metadata": {},
   "source": [
    "# Summary\n",
    "\n",
    "In this project the logical core to an app against lottery addiction was created. The goal of the app will be to tell the user the odds of winning, given certain conditions. It also tells the user whether their numbers have ever been drawn in the Canadian lottery.\n",
    "\n",
    "A lot of gambling addicts trick themselves into a skewed perception of the odds of winning, which then furthers the addiction. This is helped by many people not having a clear understanding of how probability works. Having access to clear odds might dissuade some addicts from tricking themselves into believing their odds are higher than they actually are."
   ]
  }
 ],
 "metadata": {
  "kernelspec": {
   "display_name": "Python 3",
   "language": "python",
   "name": "python3"
  },
  "language_info": {
   "codemirror_mode": {
    "name": "ipython",
    "version": 3
   },
   "file_extension": ".py",
   "mimetype": "text/x-python",
   "name": "python",
   "nbconvert_exporter": "python",
   "pygments_lexer": "ipython3",
   "version": "3.7.6"
  }
 },
 "nbformat": 4,
 "nbformat_minor": 2
}
